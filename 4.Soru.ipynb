{
  "metadata": {
    "kernelspec": {
      "name": "python",
      "display_name": "Python (Pyodide)",
      "language": "python"
    },
    "language_info": {
      "codemirror_mode": {
        "name": "python",
        "version": 3
      },
      "file_extension": ".py",
      "mimetype": "text/x-python",
      "name": "python",
      "nbconvert_exporter": "python",
      "pygments_lexer": "ipython3",
      "version": "3.8"
    }
  },
  "nbformat_minor": 4,
  "nbformat": 4,
  "cells": [
    {
      "cell_type": "code",
      "source": "import numpy as np\n\n# Histogram verilerini oluşturun\nhistogram_data = {\n    100: 12, 101: 18, 102: 32, 103: 48, 104: 52, 105: 65, 106: 55, 107: 42,\n    108: 32, 109: 16, 110: 10, 140: 5, 141: 18, 142: 25, 143: 32, 144: 40,\n    145: 65, 146: 43, 147: 32, 148: 20, 149: 10, 150: 4\n}\n\n# Başlangıç eşik değeri\nT0 = 100\nthreshold = 1\n",
      "metadata": {
        "trusted": true
      },
      "outputs": [],
      "execution_count": 1
    },
    {
      "cell_type": "code",
      "source": "# Histogram verilerinden yoğunluk ve piksel sayılarını ayrı listelerde tutalım\nintensity_values = np.array(list(histogram_data.keys()))\npixel_counts = np.array(list(histogram_data.values()))\n\n# Eşikleme algoritması\nwhile True:\n    # G1 ve G2 gruplarını oluşturma\n    G1_mask = intensity_values > T0\n    G2_mask = ~G1_mask\n\n    G1 = intensity_values[G1_mask]\n    G2 = intensity_values[G2_mask]\n\n    G1_counts = pixel_counts[G1_mask]\n    G2_counts = pixel_counts[G2_mask]\n",
      "metadata": {
        "trusted": true
      },
      "outputs": [],
      "execution_count": null
    },
    {
      "cell_type": "code",
      "source": "    # G1 ve G2 ortalamalarını hesaplama\n    m1 = np.sum(G1 * G1_counts) / np.sum(G1_counts) if np.sum(G1_counts) != 0 else 0\n    m2 = np.sum(G2 * G2_counts) / np.sum(G2_counts) if np.sum(G2_counts) != 0 else 0\n\n    # Yeni eşik değeri hesaplama\n    T1 = (m1 + m2) / 2\n",
      "metadata": {
        "trusted": true
      },
      "outputs": [],
      "execution_count": null
    },
    {
      "cell_type": "code",
      "source": "    # Eşik değeri değişimini kontrol et\n    if abs(T1 - T0) < threshold:\n        break\n\n    # T0'ı yeni eşik değeri olarak güncelle\n    T0 = T1\n\n# Optimum eşik değerini yazdır\nprint(f\"Optimum Eşik Değeri: {T1}\")\n \n",
      "metadata": {
        "trusted": true
      },
      "outputs": [],
      "execution_count": null
    }
  ]
}